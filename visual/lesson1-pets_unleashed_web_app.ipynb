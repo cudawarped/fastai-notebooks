{
 "cells": [
  {
   "cell_type": "code",
   "execution_count": 42,
   "metadata": {},
   "outputs": [],
   "source": [
    "from ipywidgets import HBox,VBox,widgets,Button,Checkbox,Dropdown,Layout,Box,Output,Label,FileUpload\n",
    "import cv2 as cv\n",
    "import numpy as np\n",
    "from PIL import Image\n",
    "import io"
   ]
  },
  {
   "cell_type": "code",
   "execution_count": 43,
   "metadata": {},
   "outputs": [],
   "source": [
    "def softmax(x):\n",
    "    z = x - x.max()\n",
    "    return np.exp(z)/np.exp(z).sum()"
   ]
  },
  {
   "cell_type": "code",
   "execution_count": 44,
   "metadata": {},
   "outputs": [],
   "source": [
    "thresh = 0.5\n",
    "imagenet_stats  = ([0.485, 0.456, 0.406], [0.229, 0.224, 0.225])\n",
    "classes = ['Abyssinian', 'Bengal', 'Birman', 'Bombay', 'British_Shorthair', 'Egyptian_Mau', 'Maine_Coon', 'Persian', 'Ragdoll', 'Russian_Blue', 'Siamese', 'Sphynx', 'american_bulldog', 'american_pit_bull_terrier', 'basset_hound', 'beagle', 'boxer', 'chihuahua', 'english_cocker_spaniel', 'english_setter', 'german_shorthaired', 'great_pyrenees', 'havanese', 'japanese_chin', 'keeshond', 'leonberger', 'miniature_pinscher', 'newfoundland', 'pomeranian', 'pug', 'saint_bernard', 'samoyed', 'scottish_terrier', 'shiba_inu', 'staffordshire_bull_terrier', 'wheaten_terrier', 'yorkshire_terrier']\n",
    "onnx_name = 'resnet34_bce_ex_29_15.onnx'\n",
    "net = cv.dnn_ClassificationModel(onnx_name)\n",
    "net.setInputSize(224, 224);"
   ]
  },
  {
   "cell_type": "code",
   "execution_count": 45,
   "metadata": {},
   "outputs": [],
   "source": [
    "btn_upload = widgets.FileUpload()\n",
    "out_pl = widgets.Output()\n",
    "lbl_pred = widgets.Label()"
   ]
  },
  {
   "cell_type": "code",
   "execution_count": 46,
   "metadata": {},
   "outputs": [],
   "source": [
    "def predict(img):\n",
    "    img_normalized = (((np.array(img)[:,:,:3]/255) - imagenet_stats[0]) / imagenet_stats[1]).astype('float32')\n",
    "    act_opencv = net.predict(img_normalized)[0]\n",
    "    preds = softmax(act_opencv)[0]\n",
    "    pred_mask = preds > thresh\n",
    "    n_preds = pred_mask.sum()\n",
    "    if(n_preds == 1):\n",
    "        i_pred = preds.argmax()\n",
    "        pred = preds[i_pred]\n",
    "        if(pred < 0.75):\n",
    "            conf_text = 'LOW'\n",
    "        elif(pred < 0.95):\n",
    "            conf_text = 'MEDIUM'\n",
    "        else:\n",
    "            conf_text = 'HIGH'\n",
    "        lbl = f'Class: {classes[i_pred]}, Confidence {conf_text}, Probability: {pred:.02f}' \n",
    "    else:\n",
    "        lbl = f'At the given threshold: {thresh}, the supplied image does not match one of our pets!'\n",
    "    return lbl"
   ]
  },
  {
   "cell_type": "code",
   "execution_count": 47,
   "metadata": {},
   "outputs": [],
   "source": [
    "def on_click(change):\n",
    "    img = Image.open(io.BytesIO(btn_upload.data[-1]))\n",
    "    out_pl.clear_output()\n",
    "    lbl = predict(img)\n",
    "    img.thumbnail((256,256))\n",
    "    with out_pl: display(img)\n",
    "    lbl_pred.value = lbl\n",
    "    return btn_upload.data[-1]"
   ]
  },
  {
   "cell_type": "code",
   "execution_count": 48,
   "metadata": {},
   "outputs": [
    {
     "data": {
      "application/vnd.jupyter.widget-view+json": {
       "model_id": "b3addd205fd64c4eb3489dc06e0e6fd2",
       "version_major": 2,
       "version_minor": 0
      },
      "text/plain": [
       "VBox(children=(Label(value='Select your cat/dog!'), FileUpload(value={}, description='Upload'), Output(), Labe…"
      ]
     },
     "metadata": {},
     "output_type": "display_data"
    }
   ],
   "source": [
    "btn_upload.observe(on_click, names=['data'])\n",
    "display(VBox([widgets.Label('Select your cat/dog!'),btn_upload,out_pl,lbl_pred]))"
   ]
  }
 ],
 "metadata": {
  "kernelspec": {
   "display_name": "Python 3",
   "language": "python",
   "name": "python3"
  },
  "language_info": {
   "codemirror_mode": {
    "name": "ipython",
    "version": 3
   },
   "file_extension": ".py",
   "mimetype": "text/x-python",
   "name": "python",
   "nbconvert_exporter": "python",
   "pygments_lexer": "ipython3",
   "version": "3.7.6"
  }
 },
 "nbformat": 4,
 "nbformat_minor": 4
}
