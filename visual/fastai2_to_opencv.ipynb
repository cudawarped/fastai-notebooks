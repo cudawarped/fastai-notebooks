{
 "cells": [
  {
   "cell_type": "markdown",
   "metadata": {},
   "source": [
    "Thanks to [Yashas Samaga](https://github.com/YashasSamaga) OpenCV 4.2.0 DNN module has a CUDA backend for inference.  This should be really useful for C++ developers looking to run local inference in their applications.\n",
    "\n",
    "Below is a quick example in python of how to \n",
    "1. export a previously trained fastaiv2 model to onnx and then\n",
    "2. import it into OpenCV and run inference on using the CUDA backend\n",
    "\n",
    "The timings with %timeit are comparable those detailed in the [documentation](https://gist.github.com/YashasSamaga/985071dc57885348bec072b4dc23824f).\n",
    "\n",
    "The models in this example are trained in [this](https://github.com/cudawarped/fastai-notebooks/blob/master/visual/lesson1-pets_unleashed.ipynb) notebook."
   ]
  },
  {
   "cell_type": "markdown",
   "metadata": {},
   "source": [
    "## Get/install OpenCV"
   ]
  },
  {
   "cell_type": "markdown",
   "metadata": {},
   "source": [
    "Note: This requires OpenCV to be compiled with the CUDA backend, see [this guide](https://jamesbowley.co.uk/accelerate-opencv-4-2-0-build-with-cuda-and-python-bindings/) or download pre-compiled binaries for Anaconda with python 3.7 from [here](https://jamesbowley.co.uk/downloads/)."
   ]
  },
  {
   "cell_type": "markdown",
   "metadata": {},
   "source": [
    "Run the following to install OpenCv python binaries downloaded from [here](https://jamesbowley.co.uk/downloads/)."
   ]
  },
  {
   "cell_type": "code",
   "execution_count": 1,
   "metadata": {},
   "outputs": [],
   "source": [
    "dload = True\n",
    "from pathlib import Path\n",
    "import site\n",
    "from shutil import copy\n",
    "if dload:\n",
    "    DLOAD_LOC = Path('F:/build/opencv/vs2019/web_python37_cuda_dnn_only_10_2/')\n",
    "    dir_containing_opencvworld420_dll = Path(\n",
    "    DLOAD_LOC/'install/x64/vc16/bin/')\n",
    "    copy(dir_containing_opencvworld420_dll/'../../../python/python3/cv2.cp37-win_amd64.pyd', \n",
    "         site.getsitepackages()[1])\n",
    "else:\n",
    "    BUILD_LOC = Path('F:/build/opencv/vs2019/web_python37_cuda_dnn_only_10_2/')\n",
    "    dir_containing_opencvworld420_dll = Path(\n",
    "        BUILD_LOC/'bin')\n",
    "    copy(dir_containing_opencvworld420_dll/'../lib/python3/cv2.cp37-win_amd64.pyd', \n",
    "         site.getsitepackages()[1])"
   ]
  },
  {
   "cell_type": "code",
   "execution_count": 2,
   "metadata": {},
   "outputs": [],
   "source": [
    "import os\n",
    "os.environ['PATH'] = str(dir_containing_opencvworld420_dll) + \";\" + os.environ['PATH']"
   ]
  },
  {
   "cell_type": "code",
   "execution_count": 3,
   "metadata": {},
   "outputs": [
    {
     "name": "stdout",
     "output_type": "stream",
     "text": [
      "\n",
      "General configuration for OpenCV 4.2.0-dev =====================================\n",
      "  Version control:               4.2.0-2-ga2d77c26ee-dirty\n",
      "\n",
      "  Extra modules:\n",
      "    Location (extra):            F:/Dev/Repos/opencv_contrib_fork_1/modules\n",
      "    Version control (extra):     4.2.0-2-g20e42922-dirty\n",
      "\n",
      "  Platform:\n",
      "    Timestamp:                   2020-01-06T08:30:22Z\n",
      "    Host:                        Windows 10.0.17763 AMD64\n",
      "    CMake:                       3.16.2\n",
      "    CMake generator:             Ninja\n",
      "    CMake build tool:            F:/Dev/Tools/StandAloneApps/ninja-win/ninja.exe\n",
      "    MSVC:                        1924\n",
      "    Configuration:               Release\n",
      "\n",
      "  CPU/HW features:\n",
      "    Baseline:                    SSE SSE2 SSE3\n",
      "      requested:                 SSE3\n",
      "    Dispatched code generation:  SSE4_1 SSE4_2 FP16 AVX AVX2 AVX512_SKX\n",
      "      requested:                 SSE4_1 SSE4_2 AVX FP16 AVX2 AVX512_SKX\n",
      "      SSE4_1 (16 files):         + SSSE3 SSE4_1\n",
      "      SSE4_2 (2 files):          + SSSE3 SSE4_1 POPCNT SSE4_2\n",
      "      FP16 (1 files):            + SSSE3 SSE4_1 POPCNT SSE4_2 FP16 AVX\n",
      "      AVX (5 files):             + SSSE3 SSE4_1 POPCNT SSE4_2 AVX\n",
      "      AVX2 (29 files):           + SSSE3 SSE4_1 POPCNT SSE4_2 FP16 FMA3 AVX AVX2\n",
      "      AVX512_SKX (6 files):      + SSSE3 SSE4_1 POPCNT SSE4_2 FP16 FMA3 AVX AVX2 AVX_512F AVX512_COMMON AVX512_SKX\n",
      "\n",
      "  C/C++:\n",
      "    Built as dynamic libs?:      YES\n",
      "    C++ Compiler:                C:/Program Files (x86)/Microsoft Visual Studio/2019/Community/VC/Tools/MSVC/14.24.28314/bin/Hostx64/x64/cl.exe  (ver 19.24.28314.0)\n",
      "    C++ flags (Release):         /DWIN32 /D_WINDOWS /W4 /GR  /D _CRT_SECURE_NO_DEPRECATE /D _CRT_NONSTDC_NO_DEPRECATE /D _SCL_SECURE_NO_WARNINGS /Gy /bigobj /Oi  /fp:precise /FS     /EHa /wd4127 /wd4251 /wd4324 /wd4275 /wd4512 /wd4589 /MP12   /MD /O2 /Ob2 /DNDEBUG \n",
      "    C++ flags (Debug):           /DWIN32 /D_WINDOWS /W4 /GR  /D _CRT_SECURE_NO_DEPRECATE /D _CRT_NONSTDC_NO_DEPRECATE /D _SCL_SECURE_NO_WARNINGS /Gy /bigobj /Oi  /fp:precise /FS     /EHa /wd4127 /wd4251 /wd4324 /wd4275 /wd4512 /wd4589 /MP12   /MDd /Zi /Ob0 /Od /RTC1 \n",
      "    C Compiler:                  C:/Program Files (x86)/Microsoft Visual Studio/2019/Community/VC/Tools/MSVC/14.24.28314/bin/Hostx64/x64/cl.exe\n",
      "    C flags (Release):           /DWIN32 /D_WINDOWS /W3  /D _CRT_SECURE_NO_DEPRECATE /D _CRT_NONSTDC_NO_DEPRECATE /D _SCL_SECURE_NO_WARNINGS /Gy /bigobj /Oi  /fp:precise /FS       /MP12    /MD /O2 /Ob2 /DNDEBUG \n",
      "    C flags (Debug):             /DWIN32 /D_WINDOWS /W3  /D _CRT_SECURE_NO_DEPRECATE /D _CRT_NONSTDC_NO_DEPRECATE /D _SCL_SECURE_NO_WARNINGS /Gy /bigobj /Oi  /fp:precise /FS       /MP12  /MDd /Zi /Ob0 /Od /RTC1 \n",
      "    Linker flags (Release):      /machine:x64  /INCREMENTAL:NO \n",
      "    Linker flags (Debug):        /machine:x64  /debug /INCREMENTAL \n",
      "    ccache:                      NO\n",
      "    Precompiled headers:         NO\n",
      "    Extra dependencies:          opengl32 glu32 cudart_static.lib nppc.lib nppial.lib nppicc.lib nppicom.lib nppidei.lib nppif.lib nppig.lib nppim.lib nppist.lib nppisu.lib nppitc.lib npps.lib cublas.lib cudnn.lib cufft.lib -LIBPATH:\"C:/Program Files/NVIDIA GPU Computing Toolkit/CUDA/v10.2/lib/x64\"\n",
      "    3rdparty dependencies:\n",
      "\n",
      "  OpenCV modules:\n",
      "    To be built:                 aruco bgsegm bioinspired calib3d ccalib core cudaarithm cudev datasets dnn dnn_objdetect dnn_superres dpm face features2d flann fuzzy gapi hfs highgui img_hash imgcodecs imgproc line_descriptor ml objdetect optflow phase_unwrapping photo plot python2 python3 quality reg rgbd saliency shape stereo stitching structured_light superres surface_matching text tracking ts video videoio videostab world xfeatures2d ximgproc xobjdetect xphoto\n",
      "    Disabled:                    cudabgsegm cudacodec cudafeatures2d cudafilters cudaimgproc cudalegacy cudaobjdetect cudaoptflow cudastereo cudawarping\n",
      "    Disabled by dependency:      -\n",
      "    Unavailable:                 cnn_3dobj cvv freetype hdf java js matlab ovis sfm viz\n",
      "    Applications:                tests perf_tests examples apps\n",
      "    Documentation:               NO\n",
      "    Non-free algorithms:         NO\n",
      "\n",
      "  Windows RT support:            NO\n",
      "\n",
      "  GUI: \n",
      "    Win32 UI:                    YES\n",
      "    OpenGL support:              YES (opengl32 glu32)\n",
      "    VTK support:                 NO\n",
      "\n",
      "  Media I/O: \n",
      "    ZLib:                        build (ver 1.2.11)\n",
      "    JPEG:                        build-libjpeg-turbo (ver 2.0.2-62)\n",
      "    WEBP:                        build (ver encoder: 0x020e)\n",
      "    PNG:                         build (ver 1.6.37)\n",
      "    TIFF:                        build (ver 42 - 4.0.10)\n",
      "    JPEG 2000:                   build (ver 1.900.1)\n",
      "    OpenEXR:                     build (ver 2.3.0)\n",
      "    HDR:                         YES\n",
      "    SUNRASTER:                   YES\n",
      "    PXM:                         YES\n",
      "    PFM:                         YES\n",
      "\n",
      "  Video I/O:\n",
      "    DC1394:                      NO\n",
      "    FFMPEG:                      YES (prebuilt binaries)\n",
      "      avcodec:                   YES (58.54.100)\n",
      "      avformat:                  YES (58.29.100)\n",
      "      avutil:                    YES (56.31.100)\n",
      "      swscale:                   YES (5.5.100)\n",
      "      avresample:                YES (4.0.0)\n",
      "    GStreamer:                   NO\n",
      "    DirectShow:                  YES\n",
      "    Media Foundation:            YES\n",
      "      DXVA:                      YES\n",
      "    Intel Media SDK:             YES (C:/Program Files (x86)/IntelSWTools/Intel(R) Media SDK 2019 R1/Software Development Kit/lib/x64/libmfx_vs2015.lib)\n",
      "\n",
      "  Parallel framework:            Concurrency\n",
      "\n",
      "  Trace:                         YES (with Intel ITT)\n",
      "\n",
      "  Other third-party libraries:\n",
      "    Intel IPP:                   2019.0.0 Gold [2019.0.0]\n",
      "           at:                   F:/build/opencv/vs2019/web_python37_cuda_dnn_only_10_2/3rdparty/ippicv/ippicv_win/icv\n",
      "    Intel IPP IW:                sources (2019.0.0)\n",
      "              at:                F:/build/opencv/vs2019/web_python37_cuda_dnn_only_10_2/3rdparty/ippicv/ippicv_win/iw\n",
      "    Lapack:                      NO\n",
      "    Eigen:                       NO\n",
      "    Custom HAL:                  NO\n",
      "    Protobuf:                    build (3.5.1)\n",
      "\n",
      "  NVIDIA CUDA:                   YES (ver 10.2, CUFFT CUBLAS NVCUVID FAST_MATH)\n",
      "    NVIDIA GPU arch:             53 60 61 70 75\n",
      "    NVIDIA PTX archs:            75\n",
      "\n",
      "  cuDNN:                         YES (ver 7.6.5)\n",
      "\n",
      "  OpenCL:                        YES (NVD3D11)\n",
      "    Include path:                F:/Dev/Repos/opencv_fork_1/3rdparty/include/opencl/1.2\n",
      "    Link libraries:              Dynamic load\n",
      "\n",
      "  Python 2:\n",
      "    Interpreter:                 C:/Users/b8/Anaconda2/python.exe (ver 2.7.14)\n",
      "    Libraries:                   C:/Users/b8/Anaconda2/libs/python27.lib (ver 2.7.14)\n",
      "    numpy:                       C:/Users/b8/Anaconda2/lib/site-packages/numpy/core/include (ver 1.13.3)\n",
      "    install path:                C:/Users/b8/Anaconda2/Lib/site-packages\n",
      "\n",
      "  Python 3:\n",
      "    Interpreter:                 C:/Users/b8/Anaconda3/python.exe (ver 3.7.3)\n",
      "    Libraries:                   C:/Users/b8/Anaconda3//libs/python37.lib (ver 3.7.3)\n",
      "    numpy:                       C:/Users/b8/Anaconda3/Lib/site-packages/numpy/core/include (ver )\n",
      "    install path:                C:/Users/b8/Anaconda3/Lib/site-packages\n",
      "\n",
      "  Python (for build):            C:/Users/b8/Anaconda2/python.exe\n",
      "\n",
      "  Java:                          \n",
      "    ant:                         NO\n",
      "    JNI:                         C:/Program Files/Java/jdk-12.0.2/include C:/Program Files/Java/jdk-12.0.2/include/win32 C:/Program Files/Java/jdk-12.0.2/include\n",
      "    Java wrappers:               NO\n",
      "    Java tests:                  NO\n",
      "\n",
      "  Install to:                    F:/build/opencv/vs2019/web_python37_cuda_dnn_only_10_2/install\n",
      "-----------------------------------------------------------------\n",
      "\n",
      "\n"
     ]
    }
   ],
   "source": [
    "import cv2 as cv\n",
    "print(cv.getBuildInformation())"
   ]
  },
  {
   "cell_type": "markdown",
   "metadata": {},
   "source": [
    "## Setup"
   ]
  },
  {
   "cell_type": "code",
   "execution_count": 4,
   "metadata": {},
   "outputs": [
    {
     "data": {
      "text/html": [
       "<style>#notebook { padding-top:0px !important; } .container { width:100% !important; } .end_space { min-height:0px !important; } </style>"
      ],
      "text/plain": [
       "<IPython.core.display.HTML object>"
      ]
     },
     "metadata": {},
     "output_type": "display_data"
    }
   ],
   "source": [
    "from fastai2.vision.all import *\n",
    "from IPython.core.display import display, HTML\n",
    "display(HTML(\"<style>\"\n",
    "    + \"#notebook { padding-top:0px !important; } \" \n",
    "    + \".container { width:100% !important; } \"\n",
    "    + \".end_space { min-height:0px !important; } \"\n",
    "    + \"</style>\"))\n",
    "\n",
    "def sigmoid(x):\n",
    "    return np.where(x >= 0, 1 / (1 + np.exp(-x)), np.exp(x) / (1 + np.exp(x)))\n",
    "def softmax(x):\n",
    "    z = x - x.max()\n",
    "    return np.exp(z)/np.exp(z).sum()\n",
    "\n",
    "model = resnet34\n",
    "use_bce = True"
   ]
  },
  {
   "cell_type": "markdown",
   "metadata": {},
   "source": [
    "## Import previously trained fastai model"
   ]
  },
  {
   "cell_type": "code",
   "execution_count": 5,
   "metadata": {},
   "outputs": [],
   "source": [
    "i_wild_classes =  [29, 15]"
   ]
  },
  {
   "cell_type": "code",
   "execution_count": 6,
   "metadata": {},
   "outputs": [],
   "source": [
    "if use_bce:\n",
    "    save_stem = f'{model.__name__ }_bce_ex_{\"_\".join(map(str, i_wild_classes))}'\n",
    "else:\n",
    "    save_stem = f'{model.__name__ }_ce_ex_{\"_\".join(map(str, i_wild_classes))}'\n",
    "onnx_name = save_stem + '.onnx'"
   ]
  },
  {
   "cell_type": "code",
   "execution_count": 7,
   "metadata": {},
   "outputs": [],
   "source": [
    "path = untar_data(URLs.PETS)\n",
    "path_img = path/'images'\n",
    "fnames = get_image_files(path_img)"
   ]
  },
  {
   "cell_type": "code",
   "execution_count": 8,
   "metadata": {},
   "outputs": [],
   "source": [
    "# Extra functions used to train BCE model\n",
    "# MultiCategoryBlock expects a list of labels \n",
    "# https://forums.fast.ai/t/how-to-use-bcewithlogitslossflat-in-lesson1-pets-ipynb/59146\n",
    "class RegextraLabeller():\n",
    "    \"Label `item` with regex `pat`.\"\n",
    "    def __init__(self, pat): self.pat = re.compile(pat)\n",
    "        \n",
    "    def __call__(self, o, **kwargs):\n",
    "        res = self.pat.search(str(o))\n",
    "        assert res,f'Failed to find \"{self.pat}\" in \"{o}\"'\n",
    "        return [res.group(1)]\n",
    "    \n",
    "def accuracy_one_class(inp, targ, thresh=0.5, sigmoid=True):\n",
    "    targ = targ.argmax(-1)\n",
    "    if sigmoid: inp = inp.sigmoid()\n",
    "    pred_mask = inp > thresh\n",
    "    pred = pred_mask.float().argmax(-1)\n",
    "    n_preds = pred_mask.sum(-1)\n",
    "    pred[n_preds > 1] = -1 # too many predictions\n",
    "    pred[n_preds == 0] = inp.shape[-1] # class other\n",
    "    return (targ == pred).float().mean(),pred\n",
    "\n",
    "def error_rate_oc(inp, targ, thresh=0.5, sigmoid=True):\n",
    "    return 1 - accuracy_one_class(inp, targ, thresh, sigmoid)[0]"
   ]
  },
  {
   "cell_type": "code",
   "execution_count": 9,
   "metadata": {},
   "outputs": [],
   "source": [
    "learn = torch.load(path/f'{save_stem}.pkl')"
   ]
  },
  {
   "cell_type": "markdown",
   "metadata": {},
   "source": [
    "## Export model to onnx"
   ]
  },
  {
   "cell_type": "code",
   "execution_count": 10,
   "metadata": {},
   "outputs": [],
   "source": [
    "learn.model.eval();\n",
    "dummy_input = torch.randn(1, 3, 224, 224).cuda()\n",
    "torch.onnx.export(learn.model, dummy_input, onnx_name,\n",
    "                  do_constant_folding=True,  # whether to execute constant folding for optimization\n",
    "                  input_names = ['input'],   # the model's input names\n",
    "                  output_names = ['output'])"
   ]
  },
  {
   "cell_type": "markdown",
   "metadata": {},
   "source": [
    "## Image"
   ]
  },
  {
   "cell_type": "code",
   "execution_count": 10,
   "metadata": {},
   "outputs": [],
   "source": [
    "img_path = 'test_img.png'\n",
    "img_tmp = cv.imread(str(fnames[0]))\n",
    "img_tmp = cv.resize(img_tmp,(224,224))\n",
    "cv.imwrite(img_path,img_tmp);"
   ]
  },
  {
   "cell_type": "code",
   "execution_count": 11,
   "metadata": {},
   "outputs": [
    {
     "name": "stderr",
     "output_type": "stream",
     "text": [
      "Clipping input data to the valid range for imshow with RGB data ([0..1] for floats or [0..255] for integers).\n"
     ]
    },
    {
     "data": {
      "image/png": "[encoded data removed]",
      "text/plain": [
       "<Figure size 432x288 with 1 Axes>"
      ]
     },
     "metadata": {
      "needs_background": "light"
     },
     "output_type": "display_data"
    }
   ],
   "source": [
    "img = cv.cvtColor(cv.imread(str(img_path)),cv.COLOR_BGR2RGB)\n",
    "img_normalized = (((np.array(img)/255) - imagenet_stats[0]) / imagenet_stats[1]).astype('float32')\n",
    "plt.imshow(img_normalized);"
   ]
  },
  {
   "cell_type": "markdown",
   "metadata": {},
   "source": [
    "## Inference Comparisson"
   ]
  },
  {
   "cell_type": "markdown",
   "metadata": {},
   "source": [
    "### Pytorch"
   ]
  },
  {
   "cell_type": "code",
   "execution_count": 13,
   "metadata": {},
   "outputs": [
    {
     "name": "stderr",
     "output_type": "stream",
     "text": [
      "Clipping input data to the valid range for imshow with RGB data ([0..1] for floats or [0..255] for integers).\n"
     ]
    },
    {
     "data": {
      "image/png": "[encoded data removed]",
      "text/plain": [
       "<Figure size 432x288 with 1 Axes>"
      ]
     },
     "metadata": {
      "needs_background": "light"
     },
     "output_type": "display_data"
    }
   ],
   "source": [
    "img_tensor = torch.from_numpy(img_normalized.transpose(1,0,2)).cuda().unsqueeze(dim=3).permute(3,2,1,0)\n",
    "plt.imshow(np.array(img_tensor.squeeze().permute(2,1,0).cpu()));"
   ]
  },
  {
   "cell_type": "code",
   "execution_count": 14,
   "metadata": {},
   "outputs": [
    {
     "data": {
      "text/plain": [
       "array([[9.98955607e-01, 4.95210152e-05, 1.10429346e-06, 4.44218699e-07,\n",
       "        2.61611876e-05, 8.94291225e-05, 2.20422135e-06, 7.88050966e-06,\n",
       "        3.68416331e-05, 3.05331778e-04, 2.14479351e-05, 8.92982916e-06,\n",
       "        4.10581606e-06, 9.98949417e-07, 1.17091840e-04, 6.66043270e-05,\n",
       "        5.85837770e-05, 4.59970579e-06, 1.51066715e-05, 3.05510275e-06,\n",
       "        8.05893796e-06, 5.65607843e-06, 1.76310186e-06, 4.87066643e-07,\n",
       "        3.74765332e-05, 2.47970340e-04, 4.09021226e-07, 3.76869093e-06,\n",
       "        5.35690742e-06, 1.75788034e-06, 1.56111928e-05, 1.71052583e-04,\n",
       "        1.12137434e-06, 4.99829330e-05, 5.66292256e-05]], dtype=float32)"
      ]
     },
     "execution_count": 14,
     "metadata": {},
     "output_type": "execute_result"
    }
   ],
   "source": [
    "act_pytorch = learn.model(img_tensor)\n",
    "if use_bce:\n",
    "    pred_pytorch = sigmoid(act_pytorch.detach().cpu().numpy())\n",
    "else:\n",
    "    pred_pytorch = softmax(act_pytorch.detach().cpu().numpy())\n",
    "pred_pytorch"
   ]
  },
  {
   "cell_type": "code",
   "execution_count": 15,
   "metadata": {},
   "outputs": [
    {
     "name": "stdout",
     "output_type": "stream",
     "text": [
      "18.9 ms ± 773 µs per loop (mean ± std. dev. of 7 runs, 100 loops each)\n"
     ]
    }
   ],
   "source": [
    "%timeit -n 100 learn.model(img_tensor)"
   ]
  },
  {
   "cell_type": "markdown",
   "metadata": {},
   "source": [
    "### Fastai"
   ]
  },
  {
   "cell_type": "code",
   "execution_count": 16,
   "metadata": {},
   "outputs": [
    {
     "data": {
      "text/html": [],
      "text/plain": [
       "<IPython.core.display.HTML object>"
      ]
     },
     "metadata": {},
     "output_type": "display_data"
    },
    {
     "data": {
      "text/plain": [
       "((#1) ['Abyssinian'],\n",
       " tensor([ True, False, False, False, False, False, False, False, False, False,\n",
       "         False, False, False, False, False, False, False, False, False, False,\n",
       "         False, False, False, False, False, False, False, False, False, False,\n",
       "         False, False, False, False, False]),\n",
       " tensor([9.9905e-01, 9.2538e-04, 1.1016e-06, 1.4480e-06, 2.3369e-05, 4.8705e-05,\n",
       "         3.9361e-06, 1.0534e-05, 7.6025e-05, 1.4202e-04, 3.7053e-05, 2.9944e-06,\n",
       "         3.0416e-06, 3.5560e-06, 1.1867e-04, 6.8149e-05, 8.8881e-05, 6.5917e-06,\n",
       "         2.6275e-05, 6.5779e-07, 1.0130e-05, 6.1924e-06, 2.6426e-06, 4.1486e-07,\n",
       "         8.0928e-05, 1.3873e-04, 7.9967e-07, 8.9397e-06, 6.0018e-06, 3.2887e-06,\n",
       "         2.6070e-05, 6.6052e-05, 6.1794e-07, 7.6025e-05, 4.0695e-05]))"
      ]
     },
     "execution_count": 16,
     "metadata": {},
     "output_type": "execute_result"
    }
   ],
   "source": [
    "#outputs= []\n",
    "#def hook(module, input, output):\n",
    "#    outputs.append(output)\n",
    "#learn.model[1][8].register_forward_hook(hook)\n",
    "pred_fastai = learn.predict(img_path);pred_fastai"
   ]
  },
  {
   "cell_type": "markdown",
   "metadata": {},
   "source": [
    "### OpenCV"
   ]
  },
  {
   "cell_type": "code",
   "execution_count": 17,
   "metadata": {},
   "outputs": [],
   "source": [
    "net = cv.dnn_ClassificationModel(onnx_name)"
   ]
  },
  {
   "cell_type": "code",
   "execution_count": 18,
   "metadata": {},
   "outputs": [
    {
     "data": {
      "text/plain": [
       "array([[9.98955607e-01, 4.95210625e-05, 1.10429346e-06, 4.44219978e-07,\n",
       "        2.61611131e-05, 8.94297191e-05, 2.20423181e-06, 7.88051784e-06,\n",
       "        3.68417750e-05, 3.05331778e-04, 2.14479351e-05, 8.92991375e-06,\n",
       "        4.10583198e-06, 9.98951350e-07, 1.17092175e-04, 6.66045162e-05,\n",
       "        5.85835551e-05, 4.59972307e-06, 1.51067579e-05, 3.05510275e-06,\n",
       "        8.05896889e-06, 5.65610526e-06, 1.76310857e-06, 4.87069883e-07,\n",
       "        3.74767114e-05, 2.47971533e-04, 4.09022419e-07, 3.76870162e-06,\n",
       "        5.35694335e-06, 1.75788705e-06, 1.56112674e-05, 1.71053573e-04,\n",
       "        1.12137855e-06, 4.99828857e-05, 5.66293347e-05]], dtype=float32)"
      ]
     },
     "execution_count": 18,
     "metadata": {},
     "output_type": "execute_result"
    }
   ],
   "source": [
    "net.setInputSize(224, 224)\n",
    "net.setPreferableBackend(cv.dnn.DNN_BACKEND_CUDA)\n",
    "net.setPreferableTarget(cv.dnn.DNN_TARGET_CUDA)\n",
    "act_opencv = net.predict(img_normalized)[0]\n",
    "if use_bce:\n",
    "    pred_opencv = sigmoid(act_opencv)\n",
    "else:\n",
    "    pred_opencv = softmax(act_opencv)\n",
    "pred_opencv"
   ]
  },
  {
   "cell_type": "code",
   "execution_count": 19,
   "metadata": {},
   "outputs": [
    {
     "data": {
      "text/plain": [
       "(2.4239092e-05, 0.0009130793)"
      ]
     },
     "execution_count": 19,
     "metadata": {},
     "output_type": "execute_result"
    }
   ],
   "source": [
    "(np.linalg.norm(act_opencv - act_pytorch.detach().cpu().numpy()),\n",
    "np.linalg.norm(pred_opencv - np.array(pred_fastai[2])))"
   ]
  },
  {
   "cell_type": "markdown",
   "metadata": {},
   "source": [
    "## Benchmarks"
   ]
  },
  {
   "cell_type": "code",
   "execution_count": 12,
   "metadata": {},
   "outputs": [],
   "source": [
    "def bench(model,backend,target,img,sz,n_images = 1):\n",
    "    learn.model.eval();\n",
    "    dummy_input = torch.randn(n_images, 3, sz[0],sz[1]).cuda()\n",
    "    torch.onnx.export(learn.model, dummy_input, onnx_name,\n",
    "                  do_constant_folding=True,  # whether to execute constant folding for optimization\n",
    "                  input_names = ['input'],   # the model's input names\n",
    "                  output_names = ['output'])\n",
    "    net = cv.dnn_ClassificationModel(model)\n",
    "    net.setInputSize(sz)\n",
    "    net.setPreferableBackend(backend)\n",
    "    net.setPreferableTarget(target) \n",
    "    blob = cv.dnn.blobFromImages([img]*n_images, size = sz)\n",
    "    net.setInput(blob)\n",
    "    res = net.forward()\n",
    "    %timeit -r 1 -n 5 net.forward() # warm up\n",
    "    %timeit -n 10 net.forward()\n",
    "    return res"
   ]
  },
  {
   "cell_type": "markdown",
   "metadata": {},
   "source": [
    "### Single Image"
   ]
  },
  {
   "cell_type": "code",
   "execution_count": 29,
   "metadata": {},
   "outputs": [
    {
     "name": "stdout",
     "output_type": "stream",
     "text": [
      "34.8 ms ± 0 ns per loop (mean ± std. dev. of 1 run, 5 loops each)\n",
      "33.8 ms ± 442 µs per loop (mean ± std. dev. of 7 runs, 10 loops each)\n"
     ]
    }
   ],
   "source": [
    "# faster if built with tbb\n",
    "bench(onnx_name,cv.dnn.DNN_BACKEND_OPENCV,cv.dnn.DNN_TARGET_CPU,img_normalized,(224,224));"
   ]
  },
  {
   "cell_type": "code",
   "execution_count": 30,
   "metadata": {},
   "outputs": [
    {
     "name": "stdout",
     "output_type": "stream",
     "text": [
      "30.3 ms ± 0 ns per loop (mean ± std. dev. of 1 run, 5 loops each)\n",
      "24.3 ms ± 648 µs per loop (mean ± std. dev. of 7 runs, 10 loops each)\n"
     ]
    }
   ],
   "source": [
    "bench(onnx_name,cv.dnn.DNN_BACKEND_OPENCV,cv.dnn.DNN_TARGET_OPENCL,img_normalized,(224,224));"
   ]
  },
  {
   "cell_type": "code",
   "execution_count": 31,
   "metadata": {},
   "outputs": [
    {
     "name": "stdout",
     "output_type": "stream",
     "text": [
      "23.9 ms ± 0 ns per loop (mean ± std. dev. of 1 run, 5 loops each)\n",
      "24 ms ± 90.3 µs per loop (mean ± std. dev. of 7 runs, 10 loops each)\n"
     ]
    }
   ],
   "source": [
    "bench(onnx_name,cv.dnn.DNN_BACKEND_OPENCV,cv.dnn.DNN_TARGET_OPENCL_FP16,img_normalized,(224,224));"
   ]
  },
  {
   "cell_type": "code",
   "execution_count": 32,
   "metadata": {},
   "outputs": [
    {
     "name": "stdout",
     "output_type": "stream",
     "text": [
      "2.92 ms ± 0 ns per loop (mean ± std. dev. of 1 run, 5 loops each)\n",
      "2.93 ms ± 42.4 µs per loop (mean ± std. dev. of 7 runs, 10 loops each)\n"
     ]
    }
   ],
   "source": [
    "bench(onnx_name,cv.dnn.DNN_BACKEND_CUDA,cv.dnn.DNN_TARGET_CUDA,img_normalized,(224,224));"
   ]
  },
  {
   "cell_type": "code",
   "execution_count": 33,
   "metadata": {},
   "outputs": [
    {
     "name": "stdout",
     "output_type": "stream",
     "text": [
      "2.98 ms ± 0 ns per loop (mean ± std. dev. of 1 run, 5 loops each)\n",
      "2.99 ms ± 22.7 µs per loop (mean ± std. dev. of 7 runs, 10 loops each)\n"
     ]
    }
   ],
   "source": [
    "bench(onnx_name,cv.dnn.DNN_BACKEND_CUDA,cv.dnn.DNN_TARGET_CUDA_FP16,img_normalized,(224,224));"
   ]
  },
  {
   "cell_type": "markdown",
   "metadata": {},
   "source": [
    "### Multiple Images"
   ]
  },
  {
   "cell_type": "code",
   "execution_count": 34,
   "metadata": {},
   "outputs": [
    {
     "name": "stdout",
     "output_type": "stream",
     "text": [
      "3.71 ms ± 0 ns per loop (mean ± std. dev. of 1 run, 5 loops each)\n",
      "3.17 ms ± 255 µs per loop (mean ± std. dev. of 7 runs, 10 loops each)\n"
     ]
    }
   ],
   "source": [
    "bench(onnx_name,cv.dnn.DNN_BACKEND_CUDA,cv.dnn.DNN_TARGET_CUDA,img_normalized,(224,224),1);"
   ]
  },
  {
   "cell_type": "code",
   "execution_count": 35,
   "metadata": {},
   "outputs": [
    {
     "name": "stdout",
     "output_type": "stream",
     "text": [
      "4.56 ms ± 0 ns per loop (mean ± std. dev. of 1 run, 5 loops each)\n",
      "4.06 ms ± 422 µs per loop (mean ± std. dev. of 7 runs, 10 loops each)\n"
     ]
    }
   ],
   "source": [
    "bench(onnx_name,cv.dnn.DNN_BACKEND_CUDA,cv.dnn.DNN_TARGET_CUDA,img_normalized,(224,224),2);"
   ]
  },
  {
   "cell_type": "code",
   "execution_count": 36,
   "metadata": {},
   "outputs": [
    {
     "name": "stdout",
     "output_type": "stream",
     "text": [
      "7.66 ms ± 0 ns per loop (mean ± std. dev. of 1 run, 5 loops each)\n",
      "6.3 ms ± 348 µs per loop (mean ± std. dev. of 7 runs, 10 loops each)\n"
     ]
    }
   ],
   "source": [
    "bench(onnx_name,cv.dnn.DNN_BACKEND_CUDA,cv.dnn.DNN_TARGET_CUDA,img_normalized,(224,224),4);"
   ]
  },
  {
   "cell_type": "code",
   "execution_count": 37,
   "metadata": {},
   "outputs": [
    {
     "name": "stdout",
     "output_type": "stream",
     "text": [
      "9.17 ms ± 0 ns per loop (mean ± std. dev. of 1 run, 5 loops each)\n",
      "9.92 ms ± 430 µs per loop (mean ± std. dev. of 7 runs, 10 loops each)\n"
     ]
    }
   ],
   "source": [
    "bench(onnx_name,cv.dnn.DNN_BACKEND_CUDA,cv.dnn.DNN_TARGET_CUDA,img_normalized,(224,224),8);"
   ]
  },
  {
   "cell_type": "code",
   "execution_count": 13,
   "metadata": {},
   "outputs": [
    {
     "name": "stdout",
     "output_type": "stream",
     "text": [
      "20.1 ms ± 0 ns per loop (mean ± std. dev. of 1 run, 5 loops each)\n",
      "18 ms ± 519 µs per loop (mean ± std. dev. of 7 runs, 10 loops each)\n"
     ]
    }
   ],
   "source": [
    "bench(onnx_name,cv.dnn.DNN_BACKEND_CUDA,cv.dnn.DNN_TARGET_CUDA,img_normalized,(224,224),16);"
   ]
  },
  {
   "cell_type": "code",
   "execution_count": 14,
   "metadata": {},
   "outputs": [
    {
     "name": "stdout",
     "output_type": "stream",
     "text": [
      "35.6 ms ± 0 ns per loop (mean ± std. dev. of 1 run, 5 loops each)\n",
      "35.7 ms ± 66.7 µs per loop (mean ± std. dev. of 7 runs, 10 loops each)\n"
     ]
    }
   ],
   "source": [
    "bench(onnx_name,cv.dnn.DNN_BACKEND_CUDA,cv.dnn.DNN_TARGET_CUDA,img_normalized,(224,224),32);"
   ]
  }
 ],
 "metadata": {
  "kernelspec": {
   "display_name": "Python 3",
   "language": "python",
   "name": "python3"
  },
  "language_info": {
   "codemirror_mode": {
    "name": "ipython",
    "version": 3
   },
   "file_extension": ".py",
   "mimetype": "text/x-python",
   "name": "python",
   "nbconvert_exporter": "python",
   "pygments_lexer": "ipython3",
   "version": "3.7.6"
  }
 },
 "nbformat": 4,
 "nbformat_minor": 2
}
