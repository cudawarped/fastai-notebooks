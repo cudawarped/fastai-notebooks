{
 "cells": [
  {
   "cell_type": "markdown",
   "metadata": {
    "heading_collapsed": true
   },
   "source": [
    "# Deps"
   ]
  },
  {
   "cell_type": "code",
   "execution_count": 4,
   "metadata": {
    "hidden": true
   },
   "outputs": [],
   "source": [
    "%reload_ext autoreload\n",
    "%autoreload 2\n",
    "%matplotlib inline"
   ]
  },
  {
   "cell_type": "code",
   "execution_count": 5,
   "metadata": {
    "hidden": true
   },
   "outputs": [],
   "source": [
    "from fastai import *\n",
    "from fastai.text import *\n",
    "from fastai.vision import *\n",
    "from fastai.callbacks import *"
   ]
  },
  {
   "cell_type": "code",
   "execution_count": 3,
   "metadata": {
    "hidden": true
   },
   "outputs": [],
   "source": [
    "txt_proc = [TokenizeProcessor(tokenizer=Tokenizer(lang='el') ),NumericalizeProcessor()]"
   ]
  },
  {
   "cell_type": "code",
   "execution_count": 4,
   "metadata": {
    "hidden": true
   },
   "outputs": [],
   "source": [
    "def SampleTexts(df,max_tokens = 100000000):\n",
    "    lens = np.array(df.apply(lambda x : len(re.findall(r'\\b',x.text))/2,axis=1))\n",
    "    n_tokens = np.sum(lens)\n",
    "    if n_tokens <= max_tokens:\n",
    "        return range(0,df.shape[0]), n_tokens\n",
    "    #if np.sum(lens) > max_tokens:\n",
    "    iDec = (-lens).argsort()\n",
    "    cumSum = np.cumsum(lens[iDec])\n",
    "    iCut = np.argmax(cumSum>max_tokens)\n",
    "    return iDec[:iCut], cumSum[iCut-1]"
   ]
  },
  {
   "cell_type": "markdown",
   "metadata": {},
   "source": [
    "# Greek Lanuage Model"
   ]
  },
  {
   "cell_type": "markdown",
   "metadata": {},
   "source": [
    "Extract the data from wikipedia using <a href=\"https://forums.fast.ai/t/language-model-zoo-gorilla/14623/19\">this guide</a> by Moody."
   ]
  },
  {
   "cell_type": "code",
   "execution_count": 5,
   "metadata": {},
   "outputs": [],
   "source": [
    "path_root = Path('/home/jupyter/tutorials/')\n",
    "source_txt = 'el_wiki_df_all.csv'\n",
    "bs = 112"
   ]
  },
  {
   "cell_type": "markdown",
   "metadata": {
    "heading_collapsed": true
   },
   "source": [
    "## Preparing the data"
   ]
  },
  {
   "cell_type": "markdown",
   "metadata": {
    "hidden": true
   },
   "source": [
    "The wiki text is contained in lots of seperate json files, so first we combine into a single large csv which we load with the data loader.\n",
    "We don't want to train with more than 100,000,000 tokens.  For the Greek corpus this is not a problem becuase there are much less than this number of tokens available.\n",
    "To sample we can reduce this number of tokens even futher is desired."
   ]
  },
  {
   "cell_type": "code",
   "execution_count": 6,
   "metadata": {
    "hidden": true
   },
   "outputs": [],
   "source": [
    "df = []\n",
    "for file in path_lang_model.glob(\"el_dump/*/*\"):\n",
    "    df_file = pd.read_json(file,lines=True,encoding=\"utf-8\")\n",
    "    df.append(df_file)\n",
    "df = pd.concat(df, axis=0)"
   ]
  },
  {
   "cell_type": "code",
   "execution_count": 7,
   "metadata": {
    "hidden": true
   },
   "outputs": [],
   "source": [
    "df.to_csv(path_lang_model/wiki_103_csv,index=False)"
   ]
  },
  {
   "cell_type": "code",
   "execution_count": 8,
   "metadata": {
    "hidden": true
   },
   "outputs": [],
   "source": [
    "df = pd.read_csv(path_lang_model/wiki_103_csv)"
   ]
  },
  {
   "cell_type": "code",
   "execution_count": 9,
   "metadata": {
    "hidden": true
   },
   "outputs": [],
   "source": [
    "max_tokens = 100000000\n",
    "i_keep,n_tokens = SampleTexts(df,max_tokens)"
   ]
  },
  {
   "cell_type": "code",
   "execution_count": 10,
   "metadata": {
    "hidden": true
   },
   "outputs": [
    {
     "name": "stdout",
     "output_type": "stream",
     "text": [
      "57956630.0 tokens < 100000000, no need to sample\n"
     ]
    }
   ],
   "source": [
    "if len(i_keep) == df.shape[0]:\n",
    "    print(f'{n_tokens} tokens < {max_tokens}, no need to sample')\n",
    "else:\n",
    "    df_sample = df.iloc[i_keep]\n",
    "    df_sample.to_csv(path_lang_model/f'../el_wiki_df_{n_tokens}.csv',index=False)"
   ]
  },
  {
   "cell_type": "markdown",
   "metadata": {
    "heading_collapsed": true
   },
   "source": [
    "## Try small sample"
   ]
  },
  {
   "cell_type": "markdown",
   "metadata": {
    "hidden": true
   },
   "source": [
    "### Sample"
   ]
  },
  {
   "cell_type": "code",
   "execution_count": 6,
   "metadata": {
    "hidden": true
   },
   "outputs": [],
   "source": [
    "df = pd.read_csv(path_root/'data'/wiki_103_csv)\n",
    "max_tokens = 1000000"
   ]
  },
  {
   "cell_type": "code",
   "execution_count": 8,
   "metadata": {
    "hidden": true
   },
   "outputs": [],
   "source": [
    "i_keep,n_tokens = SampleTexts(df,max_tokens)\n",
    "df_sample = df.iloc[i_keep]\n",
    "df_sample.to_csv(path_root/f'data/el_wiki_df_{n_tokens}.csv',index=False)"
   ]
  },
  {
   "cell_type": "markdown",
   "metadata": {
    "hidden": true
   },
   "source": [
    "### Tokenize for language model"
   ]
  },
  {
   "cell_type": "markdown",
   "metadata": {
    "hidden": true
   },
   "source": [
    "Initially limit the vocab to 30k to compare with other ULMFit methods"
   ]
  },
  {
   "cell_type": "code",
   "execution_count": 9,
   "metadata": {
    "hidden": true
   },
   "outputs": [],
   "source": [
    "source_txt = f'el_wiki_df_{n_tokens}.csv'\n",
    "max_vocab = 30000"
   ]
  },
  {
   "cell_type": "code",
   "execution_count": 10,
   "metadata": {
    "hidden": true
   },
   "outputs": [
    {
     "name": "stdout",
     "output_type": "stream",
     "text": [
      "Vocab size: 26952\n"
     ]
    }
   ],
   "source": [
    "data_lm = (TextList.from_csv(path_root,f'data/{source_txt}',cols=1,\n",
    "    processor = [TokenizeProcessor(tokenizer=Tokenizer(lang='el')) , NumericalizeProcessor(vocab=None, max_vocab=max_vocab)])\n",
    "    .random_split_by_pct(0.1)\n",
    "    .label_for_lm()\n",
    "    .databunch(bs=bs))\n",
    "print(f'Vocab size: {len(data_lm.vocab.itos)}')"
   ]
  },
  {
   "cell_type": "code",
   "execution_count": 12,
   "metadata": {
    "hidden": true
   },
   "outputs": [],
   "source": [
    "data_lm.save('tmp_data_'+ source_txt)"
   ]
  },
  {
   "cell_type": "markdown",
   "metadata": {
    "hidden": true
   },
   "source": [
    "### Fit"
   ]
  },
  {
   "cell_type": "code",
   "execution_count": 13,
   "metadata": {
    "hidden": true
   },
   "outputs": [],
   "source": [
    "data_lm = TextLMDataBunch.load(path_root, 'tmp_data_'+ source_txt ,bs=bs)"
   ]
  },
  {
   "cell_type": "code",
   "execution_count": 14,
   "metadata": {
    "hidden": true
   },
   "outputs": [],
   "source": [
    "learn = language_model_learner(data_lm, drop_mult=0.3)"
   ]
  },
  {
   "cell_type": "code",
   "execution_count": 15,
   "metadata": {
    "hidden": true
   },
   "outputs": [
    {
     "name": "stdout",
     "output_type": "stream",
     "text": [
      "LR Finder is complete, type {learner_name}.recorder.plot() to see the graph.\n"
     ]
    }
   ],
   "source": [
    "learn.lr_find()"
   ]
  },
  {
   "cell_type": "code",
   "execution_count": 16,
   "metadata": {
    "hidden": true
   },
   "outputs": [
    {
     "data": {
      "image/png": "[encoded data removed]",
      "text/plain": [
       "<Figure size 432x288 with 1 Axes>"
      ]
     },
     "metadata": {
      "needs_background": "light"
     },
     "output_type": "display_data"
    }
   ],
   "source": [
    "learn.recorder.plot(skip_end=10)"
   ]
  },
  {
   "cell_type": "code",
   "execution_count": 17,
   "metadata": {
    "hidden": true
   },
   "outputs": [
    {
     "data": {
      "text/html": [
       "Total time: 09:07 <p><table style='width:300px; margin-bottom:10px'>\n",
       "  <tr>\n",
       "    <th>epoch</th>\n",
       "    <th>train_loss</th>\n",
       "    <th>valid_loss</th>\n",
       "    <th>accuracy</th>\n",
       "  </tr>\n",
       "  <tr>\n",
       "    <th>1</th>\n",
       "    <th>5.173456</th>\n",
       "    <th>5.126557</th>\n",
       "    <th>0.228841</th>\n",
       "  </tr>\n",
       "  <tr>\n",
       "    <th>2</th>\n",
       "    <th>4.329980</th>\n",
       "    <th>4.624084</th>\n",
       "    <th>0.250723</th>\n",
       "  </tr>\n",
       "  <tr>\n",
       "    <th>3</th>\n",
       "    <th>4.067498</th>\n",
       "    <th>4.527374</th>\n",
       "    <th>0.249065</th>\n",
       "  </tr>\n",
       "  <tr>\n",
       "    <th>4</th>\n",
       "    <th>3.807165</th>\n",
       "    <th>4.503901</th>\n",
       "    <th>0.256498</th>\n",
       "  </tr>\n",
       "  <tr>\n",
       "    <th>5</th>\n",
       "    <th>3.655459</th>\n",
       "    <th>4.417594</th>\n",
       "    <th>0.262571</th>\n",
       "  </tr>\n",
       "  <tr>\n",
       "    <th>6</th>\n",
       "    <th>3.393641</th>\n",
       "    <th>4.397531</th>\n",
       "    <th>0.265703</th>\n",
       "  </tr>\n",
       "  <tr>\n",
       "    <th>7</th>\n",
       "    <th>3.204198</th>\n",
       "    <th>4.403481</th>\n",
       "    <th>0.267623</th>\n",
       "  </tr>\n",
       "  <tr>\n",
       "    <th>8</th>\n",
       "    <th>2.878831</th>\n",
       "    <th>4.440259</th>\n",
       "    <th>0.265653</th>\n",
       "  </tr>\n",
       "  <tr>\n",
       "    <th>9</th>\n",
       "    <th>2.656471</th>\n",
       "    <th>4.477993</th>\n",
       "    <th>0.265583</th>\n",
       "  </tr>\n",
       "  <tr>\n",
       "    <th>10</th>\n",
       "    <th>2.515639</th>\n",
       "    <th>4.506126</th>\n",
       "    <th>0.263556</th>\n",
       "  </tr>\n",
       "</table>\n"
      ],
      "text/plain": [
       "<IPython.core.display.HTML object>"
      ]
     },
     "metadata": {},
     "output_type": "display_data"
    },
    {
     "data": {
      "image/png": "[encoded data removed]",
      "text/plain": [
       "<Figure size 432x288 with 1 Axes>"
      ]
     },
     "metadata": {},
     "output_type": "display_data"
    }
   ],
   "source": [
    "learn.fit_one_cycle(10, 1e-2, moms=(0.8,0.7),callbacks=[ShowGraph(learn), SaveModelCallback(learn,monitor='accuracy',mode='max')])"
   ]
  },
  {
   "cell_type": "markdown",
   "metadata": {},
   "source": [
    "## Process full text"
   ]
  },
  {
   "cell_type": "markdown",
   "metadata": {
    "heading_collapsed": true
   },
   "source": [
    "### Tokenize for language model"
   ]
  },
  {
   "cell_type": "markdown",
   "metadata": {
    "hidden": true
   },
   "source": [
    "Initially limit the vocab to 30k to compare with other ULMFit methods"
   ]
  },
  {
   "cell_type": "code",
   "execution_count": 6,
   "metadata": {
    "hidden": true
   },
   "outputs": [],
   "source": [
    "max_vocab = 30000"
   ]
  },
  {
   "cell_type": "code",
   "execution_count": 19,
   "metadata": {
    "hidden": true
   },
   "outputs": [
    {
     "name": "stdout",
     "output_type": "stream",
     "text": [
      "Vocab size: 30004\n"
     ]
    }
   ],
   "source": [
    "data_lm = (TextList.from_csv(path_root,f'data/{source_txt}',cols=1,\n",
    "    processor = [TokenizeProcessor(), NumericalizeProcessor(vocab=None, max_vocab=max_vocab)])\n",
    "    .random_split_by_pct(0.1)\n",
    "    .label_for_lm()\n",
    "    .databunch(bs=bs))\n",
    "print(f'Vocab size: {len(data_lm.vocab.itos)}')\n",
    "data_lm.save('tmp_data_lm'+ source_txt)"
   ]
  },
  {
   "cell_type": "code",
   "execution_count": 20,
   "metadata": {
    "hidden": true
   },
   "outputs": [],
   "source": [
    "#save the dictionary\n",
    "pickle_out = open(str(path_root/'data/dict_')+ source_txt + '.pkl',\"wb\")\n",
    "pickle.dump(data_lm.vocab.itos, pickle_out)\n",
    "pickle_out.close()"
   ]
  },
  {
   "cell_type": "markdown",
   "metadata": {},
   "source": [
    "### Fit"
   ]
  },
  {
   "cell_type": "code",
   "execution_count": 6,
   "metadata": {},
   "outputs": [],
   "source": [
    "data_lm = TextLMDataBunch.load(path_root, 'tmp_data_lm'+ source_txt ,bs=bs)"
   ]
  },
  {
   "cell_type": "code",
   "execution_count": 7,
   "metadata": {},
   "outputs": [],
   "source": [
    "learn = language_model_learner(data_lm, drop_mult=0.1)"
   ]
  },
  {
   "cell_type": "code",
   "execution_count": 8,
   "metadata": {},
   "outputs": [],
   "source": [
    "# we were pre-empted by goole, lets keep going for a bit\n",
    "learn.load('bestmodel_lm4_' + source_txt);"
   ]
  },
  {
   "cell_type": "code",
   "execution_count": 9,
   "metadata": {},
   "outputs": [
    {
     "name": "stdout",
     "output_type": "stream",
     "text": [
      "LR Finder is complete, type {learner_name}.recorder.plot() to see the graph.\n"
     ]
    }
   ],
   "source": [
    "learn.lr_find()"
   ]
  },
  {
   "cell_type": "code",
   "execution_count": 11,
   "metadata": {},
   "outputs": [
    {
     "data": {
      "image/png": "[encoded data removed]",
      "text/plain": [
       "<Figure size 432x288 with 1 Axes>"
      ]
     },
     "metadata": {
      "needs_background": "light"
     },
     "output_type": "display_data"
    }
   ],
   "source": [
    "learn.recorder.plot(skip_end=20)"
   ]
  },
  {
   "cell_type": "code",
   "execution_count": 12,
   "metadata": {},
   "outputs": [
    {
     "data": {
      "text/html": [
       "Total time: 13:55:54 <p><table style='width:300px; margin-bottom:10px'>\n",
       "  <tr>\n",
       "    <th>epoch</th>\n",
       "    <th>train_loss</th>\n",
       "    <th>valid_loss</th>\n",
       "    <th>accuracy</th>\n",
       "  </tr>\n",
       "  <tr>\n",
       "    <th>1</th>\n",
       "    <th>2.420447</th>\n",
       "    <th>2.678280</th>\n",
       "    <th>0.444547</th>\n",
       "  </tr>\n",
       "  <tr>\n",
       "    <th>2</th>\n",
       "    <th>2.438366</th>\n",
       "    <th>2.678463</th>\n",
       "    <th>0.444549</th>\n",
       "  </tr>\n",
       "  <tr>\n",
       "    <th>3</th>\n",
       "    <th>2.448281</th>\n",
       "    <th>2.678690</th>\n",
       "    <th>0.444479</th>\n",
       "  </tr>\n",
       "  <tr>\n",
       "    <th>4</th>\n",
       "    <th>2.446615</th>\n",
       "    <th>2.679159</th>\n",
       "    <th>0.444490</th>\n",
       "  </tr>\n",
       "  <tr>\n",
       "    <th>5</th>\n",
       "    <th>2.448099</th>\n",
       "    <th>2.679768</th>\n",
       "    <th>0.444436</th>\n",
       "  </tr>\n",
       "  <tr>\n",
       "    <th>6</th>\n",
       "    <th>2.448925</th>\n",
       "    <th>2.680323</th>\n",
       "    <th>0.444430</th>\n",
       "  </tr>\n",
       "  <tr>\n",
       "    <th>7</th>\n",
       "    <th>2.484817</th>\n",
       "    <th>2.681858</th>\n",
       "    <th>0.444281</th>\n",
       "  </tr>\n",
       "  <tr>\n",
       "    <th>8</th>\n",
       "    <th>2.468067</th>\n",
       "    <th>2.682364</th>\n",
       "    <th>0.444093</th>\n",
       "  </tr>\n",
       "  <tr>\n",
       "    <th>9</th>\n",
       "    <th>2.446675</th>\n",
       "    <th>2.683275</th>\n",
       "    <th>0.444169</th>\n",
       "  </tr>\n",
       "  <tr>\n",
       "    <th>10</th>\n",
       "    <th>2.444866</th>\n",
       "    <th>2.683297</th>\n",
       "    <th>0.444081</th>\n",
       "  </tr>\n",
       "  <tr>\n",
       "    <th>11</th>\n",
       "    <th>2.465129</th>\n",
       "    <th>2.684546</th>\n",
       "    <th>0.443966</th>\n",
       "  </tr>\n",
       "  <tr>\n",
       "    <th>12</th>\n",
       "    <th>2.482356</th>\n",
       "    <th>2.684649</th>\n",
       "    <th>0.444046</th>\n",
       "  </tr>\n",
       "  <tr>\n",
       "    <th>13</th>\n",
       "    <th>2.476969</th>\n",
       "    <th>2.684941</th>\n",
       "    <th>0.443997</th>\n",
       "  </tr>\n",
       "  <tr>\n",
       "    <th>14</th>\n",
       "    <th>2.420553</th>\n",
       "    <th>2.685470</th>\n",
       "    <th>0.444014</th>\n",
       "  </tr>\n",
       "  <tr>\n",
       "    <th>15</th>\n",
       "    <th>2.467157</th>\n",
       "    <th>2.685408</th>\n",
       "    <th>0.444010</th>\n",
       "  </tr>\n",
       "  <tr>\n",
       "    <th>16</th>\n",
       "    <th>2.469864</th>\n",
       "    <th>2.686201</th>\n",
       "    <th>0.443979</th>\n",
       "  </tr>\n",
       "  <tr>\n",
       "    <th>17</th>\n",
       "    <th>2.438470</th>\n",
       "    <th>2.686619</th>\n",
       "    <th>0.443949</th>\n",
       "  </tr>\n",
       "  <tr>\n",
       "    <th>18</th>\n",
       "    <th>2.464234</th>\n",
       "    <th>2.686911</th>\n",
       "    <th>0.443822</th>\n",
       "  </tr>\n",
       "  <tr>\n",
       "    <th>19</th>\n",
       "    <th>2.468889</th>\n",
       "    <th>2.686740</th>\n",
       "    <th>0.444010</th>\n",
       "  </tr>\n",
       "  <tr>\n",
       "    <th>20</th>\n",
       "    <th>2.479904</th>\n",
       "    <th>2.687222</th>\n",
       "    <th>0.443875</th>\n",
       "  </tr>\n",
       "  <tr>\n",
       "    <th>21</th>\n",
       "    <th>2.468664</th>\n",
       "    <th>2.687747</th>\n",
       "    <th>0.443819</th>\n",
       "  </tr>\n",
       "  <tr>\n",
       "    <th>22</th>\n",
       "    <th>2.484360</th>\n",
       "    <th>2.687489</th>\n",
       "    <th>0.443867</th>\n",
       "  </tr>\n",
       "  <tr>\n",
       "    <th>23</th>\n",
       "    <th>2.406438</th>\n",
       "    <th>2.687866</th>\n",
       "    <th>0.443842</th>\n",
       "  </tr>\n",
       "  <tr>\n",
       "    <th>24</th>\n",
       "    <th>2.434319</th>\n",
       "    <th>2.688134</th>\n",
       "    <th>0.443806</th>\n",
       "  </tr>\n",
       "  <tr>\n",
       "    <th>25</th>\n",
       "    <th>2.427544</th>\n",
       "    <th>2.688154</th>\n",
       "    <th>0.443792</th>\n",
       "  </tr>\n",
       "  <tr>\n",
       "    <th>26</th>\n",
       "    <th>2.426918</th>\n",
       "    <th>2.688381</th>\n",
       "    <th>0.443807</th>\n",
       "  </tr>\n",
       "  <tr>\n",
       "    <th>27</th>\n",
       "    <th>2.435815</th>\n",
       "    <th>2.688424</th>\n",
       "    <th>0.443768</th>\n",
       "  </tr>\n",
       "  <tr>\n",
       "    <th>28</th>\n",
       "    <th>2.401177</th>\n",
       "    <th>2.688463</th>\n",
       "    <th>0.443758</th>\n",
       "  </tr>\n",
       "  <tr>\n",
       "    <th>29</th>\n",
       "    <th>2.479380</th>\n",
       "    <th>2.688505</th>\n",
       "    <th>0.443757</th>\n",
       "  </tr>\n",
       "  <tr>\n",
       "    <th>30</th>\n",
       "    <th>2.470847</th>\n",
       "    <th>2.688564</th>\n",
       "    <th>0.443746</th>\n",
       "  </tr>\n",
       "</table>\n"
      ],
      "text/plain": [
       "<IPython.core.display.HTML object>"
      ]
     },
     "metadata": {},
     "output_type": "display_data"
    },
    {
     "data": {
      "image/png": "[encoded data removed]",
      "text/plain": [
       "<Figure size 432x288 with 1 Axes>"
      ]
     },
     "metadata": {},
     "output_type": "display_data"
    }
   ],
   "source": [
    "learn.fit_one_cycle(30, 1e-4, moms=(0.8,0.7),callbacks=[ShowGraph(learn), SaveModelCallback(learn,monitor='accuracy',mode='max',name='bestmodel_lm5_' + source_txt)])"
   ]
  },
  {
   "cell_type": "code",
   "execution_count": 7,
   "metadata": {},
   "outputs": [
    {
     "name": "stdout",
     "output_type": "stream",
     "text": [
      "Perplexity for best validation accuracy: 14.562693226348223\n"
     ]
    }
   ],
   "source": [
    "print(f'Perplexity for best validation accuracy: {math.exp(2.678463)}')"
   ]
  },
  {
   "cell_type": "code",
   "execution_count": null,
   "metadata": {},
   "outputs": [
    {
     "data": {
      "text/html": [
       "\n",
       "    <div>\n",
       "        <style>\n",
       "            /* Turns off some styling */\n",
       "            progress {\n",
       "                /* gets rid of default border in Firefox and Opera. */\n",
       "                border: none;\n",
       "                /* Needs to be in here for Safari polyfill so background images work as expected. */\n",
       "                background-size: auto;\n",
       "            }\n",
       "            .progress-bar-interrupted, .progress-bar-interrupted::-webkit-progress-bar {\n",
       "                background: #F44336;\n",
       "            }\n",
       "        </style>\n",
       "      <progress value='24' class='' max='30', style='width:300px; height:20px; vertical-align: middle;'></progress>\n",
       "      80.00% [24/30 11:03:54<2:45:58]\n",
       "    </div>\n",
       "    \n",
       "<table style='width:300px; margin-bottom:10px'>\n",
       "  <tr>\n",
       "    <th>epoch</th>\n",
       "    <th>train_loss</th>\n",
       "    <th>valid_loss</th>\n",
       "    <th>accuracy</th>\n",
       "  </tr>\n",
       "  <tr>\n",
       "    <th>1</th>\n",
       "    <th>3.516630</th>\n",
       "    <th>3.502415</th>\n",
       "    <th>0.368488</th>\n",
       "  </tr>\n",
       "  <tr>\n",
       "    <th>2</th>\n",
       "    <th>3.108189</th>\n",
       "    <th>3.146007</th>\n",
       "    <th>0.393373</th>\n",
       "  </tr>\n",
       "  <tr>\n",
       "    <th>3</th>\n",
       "    <th>2.960916</th>\n",
       "    <th>3.014083</th>\n",
       "    <th>0.403630</th>\n",
       "  </tr>\n",
       "  <tr>\n",
       "    <th>4</th>\n",
       "    <th>2.907065</th>\n",
       "    <th>2.963251</th>\n",
       "    <th>0.407418</th>\n",
       "  </tr>\n",
       "  <tr>\n",
       "    <th>5</th>\n",
       "    <th>2.938919</th>\n",
       "    <th>2.954048</th>\n",
       "    <th>0.407728</th>\n",
       "  </tr>\n",
       "  <tr>\n",
       "    <th>6</th>\n",
       "    <th>2.932621</th>\n",
       "    <th>2.956811</th>\n",
       "    <th>0.407428</th>\n",
       "  </tr>\n",
       "  <tr>\n",
       "    <th>7</th>\n",
       "    <th>2.899244</th>\n",
       "    <th>2.953241</th>\n",
       "    <th>0.407625</th>\n",
       "  </tr>\n",
       "  <tr>\n",
       "    <th>8</th>\n",
       "    <th>2.917248</th>\n",
       "    <th>2.948196</th>\n",
       "    <th>0.408621</th>\n",
       "  </tr>\n",
       "  <tr>\n",
       "    <th>9</th>\n",
       "    <th>2.892850</th>\n",
       "    <th>2.934637</th>\n",
       "    <th>0.410076</th>\n",
       "  </tr>\n",
       "  <tr>\n",
       "    <th>10</th>\n",
       "    <th>2.851765</th>\n",
       "    <th>2.915483</th>\n",
       "    <th>0.412747</th>\n",
       "  </tr>\n",
       "  <tr>\n",
       "    <th>11</th>\n",
       "    <th>2.859709</th>\n",
       "    <th>2.905843</th>\n",
       "    <th>0.413378</th>\n",
       "  </tr>\n",
       "  <tr>\n",
       "    <th>12</th>\n",
       "    <th>2.837969</th>\n",
       "    <th>2.891294</th>\n",
       "    <th>0.415474</th>\n",
       "  </tr>\n",
       "  <tr>\n",
       "    <th>13</th>\n",
       "    <th>2.821651</th>\n",
       "    <th>2.875119</th>\n",
       "    <th>0.417591</th>\n",
       "  </tr>\n",
       "  <tr>\n",
       "    <th>14</th>\n",
       "    <th>2.838560</th>\n",
       "    <th>2.861395</th>\n",
       "    <th>0.418852</th>\n",
       "  </tr>\n",
       "  <tr>\n",
       "    <th>15</th>\n",
       "    <th>2.799077</th>\n",
       "    <th>2.845156</th>\n",
       "    <th>0.420775</th>\n",
       "  </tr>\n",
       "  <tr>\n",
       "    <th>16</th>\n",
       "    <th>2.789779</th>\n",
       "    <th>2.831524</th>\n",
       "    <th>0.422444</th>\n",
       "  </tr>\n",
       "  <tr>\n",
       "    <th>17</th>\n",
       "    <th>2.726807</th>\n",
       "    <th>2.812501</th>\n",
       "    <th>0.425141</th>\n",
       "  </tr>\n",
       "  <tr>\n",
       "    <th>18</th>\n",
       "    <th>2.711441</th>\n",
       "    <th>2.796246</th>\n",
       "    <th>0.427009</th>\n",
       "  </tr>\n",
       "  <tr>\n",
       "    <th>19</th>\n",
       "    <th>2.712196</th>\n",
       "    <th>2.779247</th>\n",
       "    <th>0.429462</th>\n",
       "  </tr>\n",
       "  <tr>\n",
       "    <th>20</th>\n",
       "    <th>2.662337</th>\n",
       "    <th>2.760470</th>\n",
       "    <th>0.431980</th>\n",
       "  </tr>\n",
       "  <tr>\n",
       "    <th>21</th>\n",
       "    <th>2.652790</th>\n",
       "    <th>2.745483</th>\n",
       "    <th>0.434039</th>\n",
       "  </tr>\n",
       "  <tr>\n",
       "    <th>22</th>\n",
       "    <th>2.650384</th>\n",
       "    <th>2.728071</th>\n",
       "    <th>0.436302</th>\n",
       "  </tr>\n",
       "  <tr>\n",
       "    <th>23</th>\n",
       "    <th>2.593572</th>\n",
       "    <th>2.714559</th>\n",
       "    <th>0.438461</th>\n",
       "  </tr>\n",
       "  <tr>\n",
       "    <th>24</th>\n",
       "    <th>2.624745</th>\n",
       "    <th>2.702347</th>\n",
       "    <th>0.440176</th>\n",
       "  </tr>\n",
       "</table>\n",
       "\n",
       "\n",
       "    <div>\n",
       "        <style>\n",
       "            /* Turns off some styling */\n",
       "            progress {\n",
       "                /* gets rid of default border in Firefox and Opera. */\n",
       "                border: none;\n",
       "                /* Needs to be in here for Safari polyfill so background images work as expected. */\n",
       "                background-size: auto;\n",
       "            }\n",
       "            .progress-bar-interrupted, .progress-bar-interrupted::-webkit-progress-bar {\n",
       "                background: #F44336;\n",
       "            }\n",
       "        </style>\n",
       "      <progress value='6342' class='' max='9151', style='width:300px; height:20px; vertical-align: middle;'></progress>\n",
       "      69.30% [6342/9151 18:21<08:07 2.5470]\n",
       "    </div>\n",
       "    "
      ],
      "text/plain": [
       "<IPython.core.display.HTML object>"
      ]
     },
     "metadata": {},
     "output_type": "display_data"
    },
    {
     "data": {
      "image/png": "[encoded data removed]",
      "text/plain": [
       "<Figure size 432x288 with 1 Axes>"
      ]
     },
     "metadata": {},
     "output_type": "display_data"
    }
   ],
   "source": [
    "learn.fit_one_cycle(30, 5e-3, moms=(0.8,0.7),callbacks=[ShowGraph(learn), SaveModelCallback(learn,monitor='accuracy',mode='max',name='bestmodel_lm4_' + source_txt)])"
   ]
  }
 ],
 "metadata": {
  "kernelspec": {
   "display_name": "Python 3",
   "language": "python",
   "name": "python3"
  },
  "language_info": {
   "codemirror_mode": {
    "name": "ipython",
    "version": 3
   },
   "file_extension": ".py",
   "mimetype": "text/x-python",
   "name": "python",
   "nbconvert_exporter": "python",
   "pygments_lexer": "ipython3",
   "version": "3.7.1"
  }
 },
 "nbformat": 4,
 "nbformat_minor": 2
}
